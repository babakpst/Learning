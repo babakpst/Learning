{
 "cells": [
  {
   "cell_type": "code",
   "execution_count": 1,
   "metadata": {
    "slideshow": {
     "slide_type": "fragment"
    }
   },
   "outputs": [],
   "source": [
    "import matplotlib.pyplot as plt\n",
    "import pandas as pd\n",
    "import numpy as np"
   ]
  },
  {
   "cell_type": "code",
   "execution_count": 2,
   "metadata": {
    "slideshow": {
     "slide_type": "fragment"
    }
   },
   "outputs": [],
   "source": [
    "# %load ../helper_funcs/get_df.py\n",
    "def get_df(yr):\n",
    "    return pd.read_csv(\"../../inputs/Environmental_Data_Deep_Moor_{}.csv\".format(yr))"
   ]
  },
  {
   "cell_type": "code",
   "execution_count": 3,
   "metadata": {
    "slideshow": {
     "slide_type": "fragment"
    }
   },
   "outputs": [],
   "source": [
    "# %load ../helper_funcs/get_seasons.py\n",
    "def get_seasons(yr):\n",
    "    df = get_df(yr)\n",
    "    return [df[df['date'].between('{}_03_20'.format(yr),'{}_06_19'.format(yr))],\n",
    "            df[df['date'].between('{}_06_20'.format(yr),'{}_09_21'.format(yr))],\n",
    "            df[df['date'].between('{}_09_22'.format(yr),'{}_12_20'.format(yr))],\n",
    "            df[~df['date'].between('{}_03_20'.format(yr),'{}_12_20'.format(yr))]]"
   ]
  },
  {
   "cell_type": "code",
   "execution_count": 4,
   "metadata": {},
   "outputs": [],
   "source": [
    "# %load ../helper_funcs/table_helpers.py\n",
    "def max_temp(s):\n",
    "    return s[s['Air_Temp']==s['Air_Temp'].max()]\n",
    "\n",
    "def min_temp(s):\n",
    "    return s[s['Air_Temp']==s['Air_Temp'].min()]\n",
    "\n",
    "\n",
    "def min_max_temps(yr):\n",
    "    return [(max_temp(s)['Air_Temp'].values[0],\n",
    "             max_temp(s)['date'].values[0],\n",
    "             min_temp(s)['Air_Temp'].values[0],\n",
    "             min_temp(s)['date'].values[0]\n",
    "            ) for s in get_seasons(yr)]"
   ]
  },
  {
   "cell_type": "code",
   "execution_count": 5,
   "metadata": {
    "slideshow": {
     "slide_type": "fragment"
    }
   },
   "outputs": [],
   "source": [
    "seasons = [\"Spring\",\"Summer\",\"Fall\",\"Winter\"]\n",
    "heights = [season['Air_Temp'].mean() for season in get_seasons('2013')] "
   ]
  },
  {
   "cell_type": "markdown",
   "metadata": {
    "slideshow": {
     "slide_type": "slide"
    }
   },
   "source": [
    "Set a different alpha(opacity) corresponding to value of average temperature"
   ]
  },
  {
   "cell_type": "code",
   "execution_count": 6,
   "metadata": {
    "slideshow": {
     "slide_type": "fragment"
    }
   },
   "outputs": [],
   "source": [
    "alphas = [height/max(heights) for height in heights]\n",
    "colors = [(.1,.7,.2,a) for a in alphas]"
   ]
  },
  {
   "cell_type": "code",
   "execution_count": 7,
   "metadata": {
    "slideshow": {
     "slide_type": "subslide"
    }
   },
   "outputs": [
    {
     "data": {
      "image/png": "[encoded data removed]",
      "text/plain": [
       "<Figure size 432x288 with 1 Axes>"
      ]
     },
     "metadata": {
      "needs_background": "light"
     },
     "output_type": "display_data"
    }
   ],
   "source": [
    "plt.bar(seasons,heights,.6,align='center',color=colors)\n",
    "plt.title('Average Temperature',fontsize=16)\n",
    "plt.ylabel('Farenheit.',fontsize=12)\n",
    "plt.show()"
   ]
  }
 ],
 "metadata": {
  "kernelspec": {
   "display_name": "Python 3",
   "language": "python",
   "name": "python3"
  },
  "language_info": {
   "codemirror_mode": {
    "name": "ipython",
    "version": 3
   },
   "file_extension": ".py",
   "mimetype": "text/x-python",
   "name": "python",
   "nbconvert_exporter": "python",
   "pygments_lexer": "ipython3",
   "version": "3.7.1"
  }
 },
 "nbformat": 4,
 "nbformat_minor": 2
}
